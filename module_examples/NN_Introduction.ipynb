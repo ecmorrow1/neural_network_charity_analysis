{
 "cells": [
  {
   "cell_type": "code",
   "execution_count": 1,
   "id": "4c6f21c1",
   "metadata": {},
   "outputs": [],
   "source": [
    "# Import our dependencies\n",
    "import pandas as pd\n",
    "import matplotlib as plt\n",
    "from sklearn.datasets import make_blobs\n",
    "import sklearn as skl\n",
    "import tensorflow as tf"
   ]
  },
  {
   "cell_type": "code",
   "execution_count": 2,
   "id": "0853964b",
   "metadata": {},
   "outputs": [
    {
     "data": {
      "text/plain": [
       "<AxesSubplot:xlabel='Feature 1', ylabel='Feature 2'>"
      ]
     },
     "execution_count": 2,
     "metadata": {},
     "output_type": "execute_result"
    },
    {
     "data": {
      "image/png": "[encoded data removed]",
      "text/plain": [
       "<Figure size 432x288 with 2 Axes>"
      ]
     },
     "metadata": {
      "needs_background": "light"
     },
     "output_type": "display_data"
    }
   ],
   "source": [
    "# Generate dummy dataset\n",
    "X, y = make_blobs(n_samples=1000, centers=2, n_features=2, random_state=78)\n",
    "\n",
    "# Creating a DataFrame with the dummy data\n",
    "df = pd.DataFrame(X, columns=[\"Feature 1\", \"Feature 2\"])\n",
    "df[\"Target\"] = y\n",
    "\n",
    "# Plotting the dummy data\n",
    "df.plot.scatter(x=\"Feature 1\", y=\"Feature 2\", c=\"Target\", colormap=\"winter\")"
   ]
  },
  {
   "cell_type": "code",
   "execution_count": 3,
   "id": "76bca556",
   "metadata": {},
   "outputs": [],
   "source": [
    "# Use sklearn to split dataset\n",
    "from sklearn.model_selection import train_test_split\n",
    "X_train, X_test, y_train, y_test = train_test_split(X, y, random_state=78)"
   ]
  },
  {
   "cell_type": "code",
   "execution_count": 4,
   "id": "f7f6f386",
   "metadata": {},
   "outputs": [],
   "source": [
    "# Create scaler instance\n",
    "X_scaler = skl.preprocessing.StandardScaler()\n",
    "\n",
    "# Fit the scaler\n",
    "X_scaler.fit(X_train)\n",
    "\n",
    "# Scale the data\n",
    "X_train_scaled = X_scaler.transform(X_train)\n",
    "X_test_scaled = X_scaler.transform(X_test)"
   ]
  },
  {
   "cell_type": "code",
   "execution_count": 5,
   "id": "34cf86dc",
   "metadata": {},
   "outputs": [],
   "source": [
    "# Create the Keras Sequential model\n",
    "nn_model = tf.keras.models.Sequential()"
   ]
  },
  {
   "cell_type": "code",
   "execution_count": 6,
   "id": "722a728d",
   "metadata": {},
   "outputs": [],
   "source": [
    "# Add our first Dense layer, including the input layer\n",
    "# input_dim indicates how many inputs will be in the model (in this case two).\n",
    "# the units parameter indicates how many neurons we want in the hidden layer (in this case one)\n",
    "# The activation parameter indcates which activation function to use\n",
    "nn_model.add(tf.keras.layers.Dense(units=1, activation=\"relu\", input_dim=2))"
   ]
  },
  {
   "cell_type": "code",
   "execution_count": 7,
   "id": "47492724",
   "metadata": {},
   "outputs": [],
   "source": [
    "# Add our first Dense layer, including the input layer\n",
    "# This time, we only need to supply the number of output neurons.\n",
    "# For a classification model, we only want a yes or no binary decision;\n",
    "# therefore, we only need one output neuron.\n",
    "# in our prevoius layer, we use a ReLU activation function to enable nonlinear relationship;\n",
    "# however, for our classification output, we want to us a sigmoid activation function to produce a probability output.\n",
    "nn_model.add(tf.keras.layers.Dense(units=1, activation=\"relu\", input_dim=2))"
   ]
  },
  {
   "cell_type": "code",
   "execution_count": 8,
   "id": "513a3563",
   "metadata": {},
   "outputs": [
    {
     "name": "stdout",
     "output_type": "stream",
     "text": [
      "Model: \"sequential\"\n",
      "_________________________________________________________________\n",
      " Layer (type)                Output Shape              Param #   \n",
      "=================================================================\n",
      " dense (Dense)               (None, 1)                 3         \n",
      "                                                                 \n",
      " dense_1 (Dense)             (None, 1)                 2         \n",
      "                                                                 \n",
      "=================================================================\n",
      "Total params: 5\n",
      "Trainable params: 5\n",
      "Non-trainable params: 0\n",
      "_________________________________________________________________\n"
     ]
    }
   ],
   "source": [
    "# Check the structure of the Sequential model\n",
    "nn_model.summary()"
   ]
  },
  {
   "cell_type": "markdown",
   "id": "f9c63ac0",
   "metadata": {},
   "source": [
    "Note that the number of parameters in each layer does not equal the number of neurons we defined in the notebook.\n",
    "Remember, every layer has one additional input known as our bias term (or weighted constant)\n",
    "\n",
    "Now that we have our layers defined, we have to inform the model how it should train using the input data. The process of informing the model how it should learn and train is called compiling the model.\n",
    "\n",
    "Depending on the function of the neural network, we'll have to compile the neural network using a specific optimization function and loss metric. The optimization function shapes and molds a neural network model while it is being trained to ensure that it performs to the best of its ability. The loss metric is used by machine learning algorithms to score the performance of the model through each iteration and epoch by evaluating the inaccuracy of a single input. To enhance the performance of our classification neural network, we'll use the adam optimizer, which uses a gradient descent approach to ensure that the algorithm will not get stuck on weaker classifying variables and features. As for the loss function, we'll use binary_crossentropy, which is specifically designed to evaluate a binary classification model.\n",
    "\n",
    "NOTE: There are many types of optimization functions (https://www.tensorflow.org/api_docs/python/tf/keras/optimizers) and loss metrics (https://www.tensorflow.org/api_docs/python/tf/keras/losses) you may use in neural networks. We'll discuss and use a few in this module, but feel free to check out the Keras documentation (https://www.tensorflow.org/guide/keras) for the full list of options."
   ]
  },
  {
   "cell_type": "code",
   "execution_count": 9,
   "id": "fe09a30c",
   "metadata": {},
   "outputs": [],
   "source": [
    "# Compile the Sequential model together and customize metrics\n",
    "nn_model.compile(loss=\"binary_crossentropy\", optimizer=\"adam\", metrics=[\"accuracy\"])"
   ]
  },
  {
   "cell_type": "markdown",
   "id": "de156f66",
   "metadata": {},
   "source": [
    "At last, our Sequential neural network is modeled and compiled, so now we can move onto training/fitting our model to the dummy data. To train/fit our Keras model, we'll use the fit method and provide the x training values and y training values, as well as the number of epochs. Each epoch is a complete pass through the training data. As we tested earlier in the TensorFlow Playground, the neural network binary classification model reached optimal performance at around 100 epochs. Since we designed our Sequential model to match the TensorFlow Playground simulation, we should expect similar performance. To our notebooks, we'll add and run the following code:"
   ]
  },
  {
   "cell_type": "code",
   "execution_count": 10,
   "id": "baab0b3e",
   "metadata": {},
   "outputs": [
    {
     "name": "stdout",
     "output_type": "stream",
     "text": [
      "Epoch 1/100\n",
      "24/24 [==============================] - 0s 1ms/step - loss: 0.0934 - accuracy: 0.9813\n",
      "Epoch 2/100\n",
      "24/24 [==============================] - 0s 1ms/step - loss: 0.0865 - accuracy: 0.9853\n",
      "Epoch 3/100\n",
      "24/24 [==============================] - 0s 1ms/step - loss: 0.0813 - accuracy: 0.9880\n",
      "Epoch 4/100\n",
      "24/24 [==============================] - 0s 1ms/step - loss: 0.0615 - accuracy: 0.9907\n",
      "Epoch 5/100\n",
      "24/24 [==============================] - 0s 1ms/step - loss: 0.0249 - accuracy: 0.9947\n",
      "Epoch 6/100\n",
      "24/24 [==============================] - 0s 1ms/step - loss: 0.0188 - accuracy: 0.9947\n",
      "Epoch 7/100\n",
      "24/24 [==============================] - 0s 1ms/step - loss: 0.0165 - accuracy: 0.9947\n",
      "Epoch 8/100\n",
      "24/24 [==============================] - 0s 1ms/step - loss: 0.0143 - accuracy: 0.9947\n",
      "Epoch 9/100\n",
      "24/24 [==============================] - 0s 1ms/step - loss: 0.0129 - accuracy: 0.9947\n",
      "Epoch 10/100\n",
      "24/24 [==============================] - 0s 976us/step - loss: 0.0115 - accuracy: 0.9947\n",
      "Epoch 11/100\n",
      "24/24 [==============================] - 0s 989us/step - loss: 0.0103 - accuracy: 0.9960\n",
      "Epoch 12/100\n",
      "24/24 [==============================] - 0s 1ms/step - loss: 0.0092 - accuracy: 0.9960\n",
      "Epoch 13/100\n",
      "24/24 [==============================] - 0s 974us/step - loss: 0.0083 - accuracy: 0.9960\n",
      "Epoch 14/100\n",
      "24/24 [==============================] - 0s 1ms/step - loss: 0.0076 - accuracy: 0.9960\n",
      "Epoch 15/100\n",
      "24/24 [==============================] - 0s 990us/step - loss: 0.0070 - accuracy: 0.9960\n",
      "Epoch 16/100\n",
      "24/24 [==============================] - 0s 1ms/step - loss: 0.0065 - accuracy: 0.9960\n",
      "Epoch 17/100\n",
      "24/24 [==============================] - 0s 1000us/step - loss: 0.0061 - accuracy: 0.9960\n",
      "Epoch 18/100\n",
      "24/24 [==============================] - 0s 1ms/step - loss: 0.0057 - accuracy: 0.9960\n",
      "Epoch 19/100\n",
      "24/24 [==============================] - 0s 998us/step - loss: 0.0054 - accuracy: 0.9960\n",
      "Epoch 20/100\n",
      "24/24 [==============================] - 0s 992us/step - loss: 0.0050 - accuracy: 0.9960\n",
      "Epoch 21/100\n",
      "24/24 [==============================] - 0s 987us/step - loss: 0.0047 - accuracy: 0.9960\n",
      "Epoch 22/100\n",
      "24/24 [==============================] - 0s 1ms/step - loss: 0.0044 - accuracy: 0.9960\n",
      "Epoch 23/100\n",
      "24/24 [==============================] - 0s 1ms/step - loss: 0.0042 - accuracy: 0.9960\n",
      "Epoch 24/100\n",
      "24/24 [==============================] - 0s 1ms/step - loss: 0.0039 - accuracy: 0.9960\n",
      "Epoch 25/100\n",
      "24/24 [==============================] - 0s 1ms/step - loss: 0.0037 - accuracy: 0.9960\n",
      "Epoch 26/100\n",
      "24/24 [==============================] - 0s 1ms/step - loss: 0.0036 - accuracy: 0.9960\n",
      "Epoch 27/100\n",
      "24/24 [==============================] - 0s 1ms/step - loss: 0.0034 - accuracy: 0.9960\n",
      "Epoch 28/100\n",
      "24/24 [==============================] - 0s 999us/step - loss: 0.0033 - accuracy: 0.9973\n",
      "Epoch 29/100\n",
      "24/24 [==============================] - 0s 999us/step - loss: 0.0032 - accuracy: 0.9973\n",
      "Epoch 30/100\n",
      "24/24 [==============================] - 0s 1ms/step - loss: 0.0031 - accuracy: 0.9987\n",
      "Epoch 31/100\n",
      "24/24 [==============================] - 0s 981us/step - loss: 0.0030 - accuracy: 0.9987\n",
      "Epoch 32/100\n",
      "24/24 [==============================] - 0s 1ms/step - loss: 0.0028 - accuracy: 1.0000\n",
      "Epoch 33/100\n",
      "24/24 [==============================] - 0s 1ms/step - loss: 0.0027 - accuracy: 1.0000\n",
      "Epoch 34/100\n",
      "24/24 [==============================] - 0s 1ms/step - loss: 0.0026 - accuracy: 1.0000\n",
      "Epoch 35/100\n",
      "24/24 [==============================] - 0s 1ms/step - loss: 0.0025 - accuracy: 1.0000\n",
      "Epoch 36/100\n",
      "24/24 [==============================] - 0s 992us/step - loss: 0.0024 - accuracy: 1.0000\n",
      "Epoch 37/100\n",
      "24/24 [==============================] - 0s 1ms/step - loss: 0.0023 - accuracy: 1.0000\n",
      "Epoch 38/100\n",
      "24/24 [==============================] - 0s 994us/step - loss: 0.0023 - accuracy: 1.0000\n",
      "Epoch 39/100\n",
      "24/24 [==============================] - 0s 1ms/step - loss: 0.0022 - accuracy: 1.0000\n",
      "Epoch 40/100\n",
      "24/24 [==============================] - 0s 1ms/step - loss: 0.0021 - accuracy: 1.0000\n",
      "Epoch 41/100\n",
      "24/24 [==============================] - 0s 1ms/step - loss: 0.0020 - accuracy: 1.0000\n",
      "Epoch 42/100\n",
      "24/24 [==============================] - 0s 1ms/step - loss: 0.0019 - accuracy: 1.0000\n",
      "Epoch 43/100\n",
      "24/24 [==============================] - 0s 990us/step - loss: 0.0019 - accuracy: 1.0000\n",
      "Epoch 44/100\n",
      "24/24 [==============================] - 0s 1ms/step - loss: 0.0018 - accuracy: 1.0000\n",
      "Epoch 45/100\n",
      "24/24 [==============================] - 0s 1ms/step - loss: 0.0017 - accuracy: 1.0000\n",
      "Epoch 46/100\n",
      "24/24 [==============================] - 0s 985us/step - loss: 0.0016 - accuracy: 1.0000\n",
      "Epoch 47/100\n",
      "24/24 [==============================] - 0s 1ms/step - loss: 0.0015 - accuracy: 1.0000\n",
      "Epoch 48/100\n",
      "24/24 [==============================] - 0s 1ms/step - loss: 0.0015 - accuracy: 1.0000\n",
      "Epoch 49/100\n",
      "24/24 [==============================] - 0s 1ms/step - loss: 0.0014 - accuracy: 1.0000\n",
      "Epoch 50/100\n",
      "24/24 [==============================] - 0s 1ms/step - loss: 0.0013 - accuracy: 1.0000\n",
      "Epoch 51/100\n",
      "24/24 [==============================] - 0s 986us/step - loss: 0.0012 - accuracy: 1.0000\n",
      "Epoch 52/100\n",
      "24/24 [==============================] - 0s 1ms/step - loss: 0.0011 - accuracy: 1.0000\n",
      "Epoch 53/100\n",
      "24/24 [==============================] - 0s 1ms/step - loss: 0.0011 - accuracy: 1.0000\n",
      "Epoch 54/100\n",
      "24/24 [==============================] - 0s 1ms/step - loss: 0.0010 - accuracy: 1.0000\n",
      "Epoch 55/100\n",
      "24/24 [==============================] - 0s 1ms/step - loss: 9.9235e-04 - accuracy: 1.0000\n",
      "Epoch 56/100\n",
      "24/24 [==============================] - 0s 1ms/step - loss: 9.4580e-04 - accuracy: 1.0000\n",
      "Epoch 57/100\n",
      "24/24 [==============================] - 0s 1ms/step - loss: 8.8900e-04 - accuracy: 1.0000\n",
      "Epoch 58/100\n",
      "24/24 [==============================] - 0s 989us/step - loss: 8.3072e-04 - accuracy: 1.0000\n",
      "Epoch 59/100\n",
      "24/24 [==============================] - 0s 1ms/step - loss: 7.8029e-04 - accuracy: 1.0000\n",
      "Epoch 60/100\n",
      "24/24 [==============================] - 0s 955us/step - loss: 7.3618e-04 - accuracy: 1.0000\n",
      "Epoch 61/100\n",
      "24/24 [==============================] - 0s 971us/step - loss: 6.8777e-04 - accuracy: 1.0000\n",
      "Epoch 62/100\n",
      "24/24 [==============================] - 0s 996us/step - loss: 6.3740e-04 - accuracy: 1.0000\n",
      "Epoch 63/100\n",
      "24/24 [==============================] - 0s 969us/step - loss: 5.8192e-04 - accuracy: 1.0000\n",
      "Epoch 64/100\n",
      "24/24 [==============================] - 0s 1000us/step - loss: 5.3785e-04 - accuracy: 1.0000\n",
      "Epoch 65/100\n",
      "24/24 [==============================] - 0s 958us/step - loss: 4.8190e-04 - accuracy: 1.0000\n",
      "Epoch 66/100\n",
      "24/24 [==============================] - 0s 1ms/step - loss: 4.3355e-04 - accuracy: 1.0000\n",
      "Epoch 67/100\n",
      "24/24 [==============================] - 0s 1ms/step - loss: 3.9383e-04 - accuracy: 1.0000\n",
      "Epoch 68/100\n",
      "24/24 [==============================] - 0s 1ms/step - loss: 3.3598e-04 - accuracy: 1.0000\n",
      "Epoch 69/100\n",
      "24/24 [==============================] - 0s 959us/step - loss: 3.1541e-04 - accuracy: 1.0000\n",
      "Epoch 70/100\n",
      "24/24 [==============================] - 0s 986us/step - loss: 2.9109e-04 - accuracy: 1.0000\n",
      "Epoch 71/100\n",
      "24/24 [==============================] - 0s 978us/step - loss: 2.6539e-04 - accuracy: 1.0000\n",
      "Epoch 72/100\n",
      "24/24 [==============================] - 0s 982us/step - loss: 2.4579e-04 - accuracy: 1.0000\n",
      "Epoch 73/100\n",
      "24/24 [==============================] - 0s 996us/step - loss: 2.2261e-04 - accuracy: 1.0000\n",
      "Epoch 74/100\n",
      "24/24 [==============================] - 0s 1ms/step - loss: 2.0016e-04 - accuracy: 1.0000\n",
      "Epoch 75/100\n",
      "24/24 [==============================] - 0s 987us/step - loss: 1.7840e-04 - accuracy: 1.0000\n",
      "Epoch 76/100\n",
      "24/24 [==============================] - 0s 998us/step - loss: 1.5339e-04 - accuracy: 1.0000\n",
      "Epoch 77/100\n",
      "24/24 [==============================] - 0s 964us/step - loss: 1.4272e-04 - accuracy: 1.0000\n",
      "Epoch 78/100\n",
      "24/24 [==============================] - 0s 945us/step - loss: 1.2427e-04 - accuracy: 1.0000\n",
      "Epoch 79/100\n",
      "24/24 [==============================] - 0s 985us/step - loss: 9.5686e-05 - accuracy: 1.0000\n",
      "Epoch 80/100\n",
      "24/24 [==============================] - 0s 951us/step - loss: 7.5012e-05 - accuracy: 1.0000\n",
      "Epoch 81/100\n"
     ]
    },
    {
     "name": "stdout",
     "output_type": "stream",
     "text": [
      "24/24 [==============================] - 0s 1ms/step - loss: 5.4443e-05 - accuracy: 1.0000\n",
      "Epoch 82/100\n",
      "24/24 [==============================] - 0s 992us/step - loss: 3.1609e-05 - accuracy: 1.0000\n",
      "Epoch 83/100\n",
      "24/24 [==============================] - 0s 1ms/step - loss: 2.3906e-05 - accuracy: 1.0000\n",
      "Epoch 84/100\n",
      "24/24 [==============================] - 0s 1ms/step - loss: 1.7665e-05 - accuracy: 1.0000\n",
      "Epoch 85/100\n",
      "24/24 [==============================] - 0s 994us/step - loss: 1.1423e-05 - accuracy: 1.0000\n",
      "Epoch 86/100\n",
      "24/24 [==============================] - 0s 1ms/step - loss: 6.8454e-06 - accuracy: 1.0000\n",
      "Epoch 87/100\n",
      "24/24 [==============================] - 0s 976us/step - loss: 0.0000e+00 - accuracy: 1.0000\n",
      "Epoch 88/100\n",
      "24/24 [==============================] - 0s 976us/step - loss: 0.0000e+00 - accuracy: 1.0000\n",
      "Epoch 89/100\n",
      "24/24 [==============================] - 0s 986us/step - loss: 0.0000e+00 - accuracy: 1.0000\n",
      "Epoch 90/100\n",
      "24/24 [==============================] - 0s 980us/step - loss: 0.0000e+00 - accuracy: 1.0000\n",
      "Epoch 91/100\n",
      "24/24 [==============================] - 0s 953us/step - loss: 0.0000e+00 - accuracy: 1.0000\n",
      "Epoch 92/100\n",
      "24/24 [==============================] - 0s 1ms/step - loss: 0.0000e+00 - accuracy: 1.0000\n",
      "Epoch 93/100\n",
      "24/24 [==============================] - 0s 969us/step - loss: 0.0000e+00 - accuracy: 1.0000\n",
      "Epoch 94/100\n",
      "24/24 [==============================] - 0s 988us/step - loss: 0.0000e+00 - accuracy: 1.0000\n",
      "Epoch 95/100\n",
      "24/24 [==============================] - 0s 982us/step - loss: 0.0000e+00 - accuracy: 1.0000\n",
      "Epoch 96/100\n",
      "24/24 [==============================] - 0s 959us/step - loss: 0.0000e+00 - accuracy: 1.0000\n",
      "Epoch 97/100\n",
      "24/24 [==============================] - 0s 981us/step - loss: 0.0000e+00 - accuracy: 1.0000\n",
      "Epoch 98/100\n",
      "24/24 [==============================] - 0s 997us/step - loss: 0.0000e+00 - accuracy: 1.0000\n",
      "Epoch 99/100\n",
      "24/24 [==============================] - 0s 955us/step - loss: 0.0000e+00 - accuracy: 1.0000\n",
      "Epoch 100/100\n",
      "24/24 [==============================] - 0s 982us/step - loss: 0.0000e+00 - accuracy: 1.0000\n"
     ]
    }
   ],
   "source": [
    "# Fit the model to the training data\n",
    "fit_model = nn_model.fit(X_train_scaled, y_train, epochs=100)"
   ]
  },
  {
   "cell_type": "markdown",
   "id": "3720009a",
   "metadata": {},
   "source": [
    "Looking at the model training output, we know that the loss metric was 0.07 and the predictive accuracy is 1.0. This means that although our model performance had more loss than the simulation data, the model correctly classifies all of our training data, which is sufficient for our needs. Note that the model isn't seeded, meaning that the results in your notebook will likely not be identical to one in this example. However, you should observe similar general trends.\n",
    "\n",
    "Under the hood, the neural network will select random weights to start training the model, so that each and every time we create a neural network, the model will be different. However, due to the adam optimizer, our model's end performance should be very similar, regardless of the loss function.\n",
    "\n",
    "When training completes, the model object stores the loss and accuracy metrics across all epochs, which we can use to visualize the training progress. For example, if we wanted to visualize our model's loss over the full 100 epochs, we can run the following code in our notebooks:"
   ]
  },
  {
   "cell_type": "code",
   "execution_count": 11,
   "id": "5edbe807",
   "metadata": {},
   "outputs": [
    {
     "data": {
      "text/plain": [
       "<AxesSubplot:>"
      ]
     },
     "execution_count": 11,
     "metadata": {},
     "output_type": "execute_result"
    },
    {
     "data": {
      "image/png": "[encoded data removed]",
      "text/plain": [
       "<Figure size 432x288 with 1 Axes>"
      ]
     },
     "metadata": {
      "needs_background": "light"
     },
     "output_type": "display_data"
    }
   ],
   "source": [
    "# Create a DataFrame containing training history\n",
    "history_df = pd.DataFrame(fit_model.history, index=range(1,len(fit_model.history[\"loss\"])+1))\n",
    "\n",
    "# Plot the loss\n",
    "history_df.plot(y=\"loss\")"
   ]
  },
  {
   "cell_type": "code",
   "execution_count": 12,
   "id": "95c3fd86",
   "metadata": {},
   "outputs": [
    {
     "data": {
      "text/plain": [
       "<AxesSubplot:>"
      ]
     },
     "execution_count": 12,
     "metadata": {},
     "output_type": "execute_result"
    },
    {
     "data": {
      "image/png": "[encoded data removed]",
      "text/plain": [
       "<Figure size 432x288 with 1 Axes>"
      ]
     },
     "metadata": {
      "needs_background": "light"
     },
     "output_type": "display_data"
    }
   ],
   "source": [
    "# Plot the accuracy over time\n",
    "history_df.plot(y=\"accuracy\")"
   ]
  },
  {
   "cell_type": "markdown",
   "id": "cc7cb1a7",
   "metadata": {},
   "source": [
    "Remember, our neural network consisted of a single hidden layer with one neuron—if we were to increase the number of neurons in the hidden layer, the neural network would have been able to fit the training data even faster!\n",
    "\n",
    "Now that our model has been properly trained, we must evaluate model performance using the test data. Testing a neural network model in TensorFlow is very similar to testing a machine learning model in Scikit-learn. For our purposes, we'll use the evaluate method and print the testing loss and accuracy values. In our notebooks, we'll add and run the following code:"
   ]
  },
  {
   "cell_type": "code",
   "execution_count": 13,
   "id": "4c254c8f",
   "metadata": {},
   "outputs": [
    {
     "name": "stdout",
     "output_type": "stream",
     "text": [
      "8/8 - 0s - loss: 0.0000e+00 - accuracy: 1.0000 - 113ms/epoch - 14ms/step\n",
      "Loss: 0.0, Accuracy: 1.0\n"
     ]
    }
   ],
   "source": [
    "# Evaluate the model using the test data\n",
    "model_loss, model_accuracy = nn_model.evaluate(X_test_scaled,y_test,verbose=2)\n",
    "print(f\"Loss: {model_loss}, Accuracy: {model_accuracy}\")"
   ]
  },
  {
   "cell_type": "markdown",
   "id": "08eab58d",
   "metadata": {},
   "source": [
    "Looking at the performance metrics from the model, the neural network was able to correctly classify each of the points in the test data. In other words, the model was able to correctly classify data it was not trained on 100% of the time. Although perfect model performance is ideal, more complex datasets and models may not be able to achieve 100% accuracy. Therefore, it is important to establish model performance thresholds before designing any machine learning model. Depending on the type of data and the use case, we may have to recreate and retrain a model using different parameters, different training/test data, or even look to use a different model entirely.\n",
    "\n",
    "Now that we have a trained neural network model and we have verified its performance using a test dataset, we can apply this model to novel datasets and predict the classification of a data point. In our Sequential model, we can use the predict method to generate predictions on new data. For example, if we wanted to predict the class of a new blob dataset, we can add and run the following code:"
   ]
  },
  {
   "cell_type": "code",
   "execution_count": 14,
   "id": "202658ee",
   "metadata": {},
   "outputs": [
    {
     "name": "stdout",
     "output_type": "stream",
     "text": [
      "1/1 [==============================] - 0s 54ms/step\n"
     ]
    },
    {
     "data": {
      "text/plain": [
       "array([[0],\n",
       "       [1],\n",
       "       [0],\n",
       "       [1],\n",
       "       [0],\n",
       "       [0],\n",
       "       [1],\n",
       "       [1],\n",
       "       [1],\n",
       "       [0]])"
      ]
     },
     "execution_count": 14,
     "metadata": {},
     "output_type": "execute_result"
    }
   ],
   "source": [
    "# Predict the classification of a new set of blob data\n",
    "new_X, new_Y = make_blobs(n_samples=10, centers=2, n_features=2, random_state=78)\n",
    "new_X_scaled = X_scaler.transform(new_X)\n",
    "(nn_model.predict(new_X_scaled) > 0.5).astype(\"int32\")"
   ]
  },
  {
   "cell_type": "markdown",
   "id": "33a3b5da",
   "metadata": {},
   "source": [
    "Now that we have designed a basic single-neuron, single-layer model, trained the model, and evaluated its performance using a test dataset, we are ready to start testing the limits of the basic neural network. As previously mentioned, simple linear regression and singular perceptron models work really well as a binary classifier when the data is linearly separable. But what about nonlinear data? How does our basic neural network model behave when data becomes more complicated?\n",
    "\n",
    "To test this behavior, let's generate some new dummy data. This time we'll generate some nonlinear moon-shaped data using Scikit-learn's make_moons method and visualize it using Pandas and Matplotlib. Using the same notebook, we'll add and run the following code:"
   ]
  },
  {
   "cell_type": "code",
   "execution_count": 15,
   "id": "909a26ff",
   "metadata": {},
   "outputs": [
    {
     "data": {
      "text/plain": [
       "<AxesSubplot:xlabel='Feature 1', ylabel='Feature 2'>"
      ]
     },
     "execution_count": 15,
     "metadata": {},
     "output_type": "execute_result"
    },
    {
     "data": {
      "image/png": "[encoded data removed]",
      "text/plain": [
       "<Figure size 432x288 with 2 Axes>"
      ]
     },
     "metadata": {
      "needs_background": "light"
     },
     "output_type": "display_data"
    }
   ],
   "source": [
    "from sklearn.datasets import make_moons\n",
    "\n",
    "# Creating dummy nonlinear data\n",
    "X_moons, y_moons = make_moons(n_samples=1000, noise=0.08, random_state=78)\n",
    "\n",
    "# Transforming y_moons to a vertical vector\n",
    "y_moons = y_moons.reshape(-1, 1)\n",
    "\n",
    "# Creating a DataFrame to plot the nonlinear dummy data\n",
    "df_moons = pd.DataFrame(X_moons, columns=[\"Feature 1\", \"Feature 2\"])\n",
    "df_moons[\"Target\"] = y_moons\n",
    "\n",
    "# Plot the nonlinear dummy data\n",
    "df_moons.plot.scatter(x=\"Feature 1\",y=\"Feature 2\", c=\"Target\",colormap=\"winter\")"
   ]
  },
  {
   "cell_type": "markdown",
   "id": "4c4df60a",
   "metadata": {},
   "source": [
    "Since we are not changing the structure of our neural network, nor are we changing its function, we can use the same Sequential model object. The only difference from our previous workflow is this time we will retrain and evaluate on the nonlinear moon-shaped data.\n",
    "\n",
    "As with our previous dummy data example, we need to split our nonlinear data into training and testing datasets and normalize our datasets. In the same notebook, we'll add and run the following code:"
   ]
  },
  {
   "cell_type": "code",
   "execution_count": 16,
   "id": "0b000804",
   "metadata": {},
   "outputs": [],
   "source": [
    "# Create training and testing sets\n",
    "X_moon_train, X_moon_test, y_moon_train, y_moon_test = train_test_split(\n",
    "    X_moons, y_moons, random_state=78\n",
    ")\n",
    "\n",
    "# Create the scaler instance\n",
    "X_moon_scaler = skl.preprocessing.StandardScaler()\n",
    "\n",
    "# Fit the scaler\n",
    "X_moon_scaler.fit(X_moon_train)\n",
    "\n",
    "# Scale the data\n",
    "X_moon_train_scaled = X_moon_scaler.transform(X_moon_train)\n",
    "X_moon_test_scaled = X_moon_scaler.transform(X_moon_test)"
   ]
  },
  {
   "cell_type": "markdown",
   "id": "000326ed",
   "metadata": {},
   "source": [
    "Just as we did with the linear data, we'll train our neural network model using the fit method on the nonlinear training data. Let's add and run the following code to our notebooks:"
   ]
  },
  {
   "cell_type": "code",
   "execution_count": 17,
   "id": "699ef330",
   "metadata": {},
   "outputs": [
    {
     "name": "stdout",
     "output_type": "stream",
     "text": [
      "Epoch 1/100\n",
      "24/24 [==============================] - 0s 1ms/step - loss: 7.1175 - accuracy: 0.4547\n",
      "Epoch 2/100\n",
      "24/24 [==============================] - 0s 1ms/step - loss: 6.4965 - accuracy: 0.4840\n",
      "Epoch 3/100\n",
      "24/24 [==============================] - 0s 1ms/step - loss: 6.2225 - accuracy: 0.4867\n",
      "Epoch 4/100\n",
      "24/24 [==============================] - 0s 983us/step - loss: 5.8667 - accuracy: 0.4880\n",
      "Epoch 5/100\n",
      "24/24 [==============================] - 0s 1ms/step - loss: 5.3339 - accuracy: 0.5013\n",
      "Epoch 6/100\n",
      "24/24 [==============================] - 0s 975us/step - loss: 4.7404 - accuracy: 0.5253\n",
      "Epoch 7/100\n",
      "24/24 [==============================] - 0s 1ms/step - loss: 4.4595 - accuracy: 0.5427\n",
      "Epoch 8/100\n",
      "24/24 [==============================] - 0s 992us/step - loss: 4.2062 - accuracy: 0.5560\n",
      "Epoch 9/100\n",
      "24/24 [==============================] - 0s 1ms/step - loss: 4.1244 - accuracy: 0.5667\n",
      "Epoch 10/100\n",
      "24/24 [==============================] - 0s 976us/step - loss: 4.0895 - accuracy: 0.5773\n",
      "Epoch 11/100\n",
      "24/24 [==============================] - 0s 1ms/step - loss: 4.0563 - accuracy: 0.5840\n",
      "Epoch 12/100\n",
      "24/24 [==============================] - 0s 1ms/step - loss: 3.9984 - accuracy: 0.5880\n",
      "Epoch 13/100\n",
      "24/24 [==============================] - 0s 1ms/step - loss: 3.9021 - accuracy: 0.5947\n",
      "Epoch 14/100\n",
      "24/24 [==============================] - 0s 1ms/step - loss: 3.8545 - accuracy: 0.5987\n",
      "Epoch 15/100\n",
      "24/24 [==============================] - 0s 976us/step - loss: 3.8253 - accuracy: 0.6093\n",
      "Epoch 16/100\n",
      "24/24 [==============================] - 0s 1ms/step - loss: 3.8114 - accuracy: 0.6107\n",
      "Epoch 17/100\n",
      "24/24 [==============================] - 0s 998us/step - loss: 3.7719 - accuracy: 0.6160\n",
      "Epoch 18/100\n",
      "24/24 [==============================] - 0s 1ms/step - loss: 3.7598 - accuracy: 0.6227\n",
      "Epoch 19/100\n",
      "24/24 [==============================] - 0s 991us/step - loss: 3.7369 - accuracy: 0.6293\n",
      "Epoch 20/100\n",
      "24/24 [==============================] - 0s 1ms/step - loss: 3.7265 - accuracy: 0.6320\n",
      "Epoch 21/100\n",
      "24/24 [==============================] - 0s 998us/step - loss: 3.7191 - accuracy: 0.6320\n",
      "Epoch 22/100\n",
      "24/24 [==============================] - 0s 942us/step - loss: 3.7123 - accuracy: 0.6373\n",
      "Epoch 23/100\n",
      "24/24 [==============================] - 0s 1ms/step - loss: 3.6924 - accuracy: 0.6400\n",
      "Epoch 24/100\n",
      "24/24 [==============================] - 0s 990us/step - loss: 3.6747 - accuracy: 0.6467\n",
      "Epoch 25/100\n",
      "24/24 [==============================] - 0s 1ms/step - loss: 3.6281 - accuracy: 0.6387\n",
      "Epoch 26/100\n",
      "24/24 [==============================] - 0s 987us/step - loss: 3.6100 - accuracy: 0.6400\n",
      "Epoch 27/100\n",
      "24/24 [==============================] - 0s 1ms/step - loss: 3.6055 - accuracy: 0.6440\n",
      "Epoch 28/100\n",
      "24/24 [==============================] - 0s 1ms/step - loss: 3.6018 - accuracy: 0.6507\n",
      "Epoch 29/100\n",
      "24/24 [==============================] - 0s 986us/step - loss: 3.5983 - accuracy: 0.6560\n",
      "Epoch 30/100\n",
      "24/24 [==============================] - 0s 1ms/step - loss: 3.5950 - accuracy: 0.6560\n",
      "Epoch 31/100\n",
      "24/24 [==============================] - 0s 934us/step - loss: 3.5838 - accuracy: 0.6573\n",
      "Epoch 32/100\n",
      "24/24 [==============================] - 0s 1ms/step - loss: 3.5597 - accuracy: 0.6667\n",
      "Epoch 33/100\n",
      "24/24 [==============================] - 0s 948us/step - loss: 3.5557 - accuracy: 0.6707\n",
      "Epoch 34/100\n",
      "24/24 [==============================] - 0s 1ms/step - loss: 3.5536 - accuracy: 0.6720\n",
      "Epoch 35/100\n",
      "24/24 [==============================] - 0s 993us/step - loss: 3.5381 - accuracy: 0.6733\n",
      "Epoch 36/100\n",
      "24/24 [==============================] - 0s 981us/step - loss: 3.5340 - accuracy: 0.6760\n",
      "Epoch 37/100\n",
      "24/24 [==============================] - 0s 1ms/step - loss: 3.5316 - accuracy: 0.6760\n",
      "Epoch 38/100\n",
      "24/24 [==============================] - 0s 983us/step - loss: 3.5294 - accuracy: 0.6773\n",
      "Epoch 39/100\n",
      "24/24 [==============================] - 0s 1ms/step - loss: 3.5274 - accuracy: 0.6800\n",
      "Epoch 40/100\n",
      "24/24 [==============================] - 0s 1ms/step - loss: 3.5255 - accuracy: 0.6800\n",
      "Epoch 41/100\n",
      "24/24 [==============================] - 0s 1ms/step - loss: 3.5236 - accuracy: 0.6813\n",
      "Epoch 42/100\n",
      "24/24 [==============================] - 0s 1ms/step - loss: 3.5219 - accuracy: 0.6813\n",
      "Epoch 43/100\n",
      "24/24 [==============================] - 0s 991us/step - loss: 3.5200 - accuracy: 0.6827\n",
      "Epoch 44/100\n",
      "24/24 [==============================] - 0s 993us/step - loss: 3.4910 - accuracy: 0.6800\n",
      "Epoch 45/100\n",
      "24/24 [==============================] - 0s 1ms/step - loss: 3.4695 - accuracy: 0.6827\n",
      "Epoch 46/100\n",
      "24/24 [==============================] - 0s 1ms/step - loss: 3.4537 - accuracy: 0.6827\n",
      "Epoch 47/100\n",
      "24/24 [==============================] - 0s 956us/step - loss: 3.4469 - accuracy: 0.6827\n",
      "Epoch 48/100\n",
      "24/24 [==============================] - 0s 1ms/step - loss: 3.3694 - accuracy: 0.6827\n",
      "Epoch 49/100\n",
      "24/24 [==============================] - 0s 932us/step - loss: 3.2800 - accuracy: 0.6707\n",
      "Epoch 50/100\n",
      "24/24 [==============================] - 0s 1ms/step - loss: 3.2921 - accuracy: 0.6733\n",
      "Epoch 51/100\n",
      "24/24 [==============================] - 0s 1ms/step - loss: 3.2911 - accuracy: 0.6733\n",
      "Epoch 52/100\n",
      "24/24 [==============================] - 0s 956us/step - loss: 3.2901 - accuracy: 0.6747\n",
      "Epoch 53/100\n",
      "24/24 [==============================] - 0s 958us/step - loss: 3.2763 - accuracy: 0.6747\n",
      "Epoch 54/100\n",
      "24/24 [==============================] - 0s 1ms/step - loss: 3.2723 - accuracy: 0.6747\n",
      "Epoch 55/100\n",
      "24/24 [==============================] - 0s 972us/step - loss: 3.2708 - accuracy: 0.6733\n",
      "Epoch 56/100\n",
      "24/24 [==============================] - 0s 984us/step - loss: 3.2694 - accuracy: 0.6747\n",
      "Epoch 57/100\n",
      "24/24 [==============================] - 0s 1ms/step - loss: 3.2681 - accuracy: 0.6760\n",
      "Epoch 58/100\n",
      "24/24 [==============================] - 0s 1ms/step - loss: 3.2670 - accuracy: 0.6760\n",
      "Epoch 59/100\n",
      "24/24 [==============================] - 0s 952us/step - loss: 3.2658 - accuracy: 0.6773\n",
      "Epoch 60/100\n",
      "24/24 [==============================] - 0s 963us/step - loss: 3.2647 - accuracy: 0.6773\n",
      "Epoch 61/100\n",
      "24/24 [==============================] - 0s 982us/step - loss: 3.2637 - accuracy: 0.6773\n",
      "Epoch 62/100\n",
      "24/24 [==============================] - 0s 990us/step - loss: 3.2700 - accuracy: 0.6800\n",
      "Epoch 63/100\n",
      "24/24 [==============================] - 0s 1ms/step - loss: 3.1253 - accuracy: 0.6747\n",
      "Epoch 64/100\n",
      "24/24 [==============================] - 0s 965us/step - loss: 3.1054 - accuracy: 0.6760\n",
      "Epoch 65/100\n",
      "24/24 [==============================] - 0s 953us/step - loss: 3.1015 - accuracy: 0.6760\n",
      "Epoch 66/100\n",
      "24/24 [==============================] - 0s 1ms/step - loss: 3.0732 - accuracy: 0.6773\n",
      "Epoch 67/100\n",
      "24/24 [==============================] - 0s 983us/step - loss: 3.0675 - accuracy: 0.6773\n",
      "Epoch 68/100\n",
      "24/24 [==============================] - 0s 983us/step - loss: 3.0515 - accuracy: 0.6773\n",
      "Epoch 69/100\n",
      "24/24 [==============================] - 0s 958us/step - loss: 3.0346 - accuracy: 0.6773\n",
      "Epoch 70/100\n",
      "24/24 [==============================] - 0s 992us/step - loss: 3.0166 - accuracy: 0.6787\n",
      "Epoch 71/100\n",
      "24/24 [==============================] - 0s 1ms/step - loss: 2.9841 - accuracy: 0.6787\n",
      "Epoch 72/100\n",
      "24/24 [==============================] - 0s 1ms/step - loss: 2.9784 - accuracy: 0.6787\n",
      "Epoch 73/100\n",
      "24/24 [==============================] - 0s 989us/step - loss: 2.9751 - accuracy: 0.6787\n",
      "Epoch 74/100\n",
      "24/24 [==============================] - 0s 1ms/step - loss: 2.9728 - accuracy: 0.6787\n",
      "Epoch 75/100\n",
      "24/24 [==============================] - 0s 969us/step - loss: 2.9706 - accuracy: 0.6787\n",
      "Epoch 76/100\n",
      "24/24 [==============================] - 0s 974us/step - loss: 2.9686 - accuracy: 0.6787\n",
      "Epoch 77/100\n",
      "24/24 [==============================] - 0s 1ms/step - loss: 2.9543 - accuracy: 0.6800\n",
      "Epoch 78/100\n",
      "24/24 [==============================] - 0s 962us/step - loss: 2.9205 - accuracy: 0.6800\n",
      "Epoch 79/100\n",
      "24/24 [==============================] - 0s 993us/step - loss: 2.9147 - accuracy: 0.6800\n",
      "Epoch 80/100\n",
      "24/24 [==============================] - 0s 999us/step - loss: 2.9125 - accuracy: 0.6813\n",
      "Epoch 81/100\n",
      "24/24 [==============================] - 0s 1ms/step - loss: 2.9104 - accuracy: 0.6813\n",
      "Epoch 82/100\n"
     ]
    },
    {
     "name": "stdout",
     "output_type": "stream",
     "text": [
      "24/24 [==============================] - 0s 969us/step - loss: 2.9084 - accuracy: 0.6813\n",
      "Epoch 83/100\n",
      "24/24 [==============================] - 0s 1ms/step - loss: 2.9066 - accuracy: 0.6813\n",
      "Epoch 84/100\n",
      "24/24 [==============================] - 0s 955us/step - loss: 2.9047 - accuracy: 0.6813\n",
      "Epoch 85/100\n",
      "24/24 [==============================] - 0s 1ms/step - loss: 2.9030 - accuracy: 0.6813\n",
      "Epoch 86/100\n",
      "24/24 [==============================] - 0s 1ms/step - loss: 2.9013 - accuracy: 0.6813\n",
      "Epoch 87/100\n",
      "24/24 [==============================] - 0s 1ms/step - loss: 2.8996 - accuracy: 0.6813\n",
      "Epoch 88/100\n",
      "24/24 [==============================] - 0s 959us/step - loss: 2.8851 - accuracy: 0.6827\n",
      "Epoch 89/100\n",
      "24/24 [==============================] - 0s 959us/step - loss: 2.8793 - accuracy: 0.6827\n",
      "Epoch 90/100\n",
      "24/24 [==============================] - 0s 947us/step - loss: 2.8773 - accuracy: 0.6840\n",
      "Epoch 91/100\n",
      "24/24 [==============================] - 0s 965us/step - loss: 2.8754 - accuracy: 0.6840\n",
      "Epoch 92/100\n",
      "24/24 [==============================] - 0s 995us/step - loss: 2.8737 - accuracy: 0.6840\n",
      "Epoch 93/100\n",
      "24/24 [==============================] - 0s 1000us/step - loss: 2.8720 - accuracy: 0.6840\n",
      "Epoch 94/100\n",
      "24/24 [==============================] - 0s 996us/step - loss: 2.8703 - accuracy: 0.6867\n",
      "Epoch 95/100\n",
      "24/24 [==============================] - 0s 965us/step - loss: 2.8688 - accuracy: 0.6880\n",
      "Epoch 96/100\n",
      "24/24 [==============================] - 0s 1ms/step - loss: 2.8672 - accuracy: 0.6880\n",
      "Epoch 97/100\n",
      "24/24 [==============================] - 0s 986us/step - loss: 2.8657 - accuracy: 0.6880\n",
      "Epoch 98/100\n",
      "24/24 [==============================] - 0s 1ms/step - loss: 2.8643 - accuracy: 0.6880\n",
      "Epoch 99/100\n",
      "24/24 [==============================] - 0s 952us/step - loss: 2.8629 - accuracy: 0.6880\n",
      "Epoch 100/100\n",
      "24/24 [==============================] - 0s 1ms/step - loss: 2.8615 - accuracy: 0.6893\n"
     ]
    }
   ],
   "source": [
    "# Training the model with the nonlinear data\n",
    "model_moon = nn_model.fit(X_moon_train_scaled, y_moon_train, epochs=100, shuffle=True)"
   ]
  },
  {
   "cell_type": "markdown",
   "id": "36021f3d",
   "metadata": {},
   "source": [
    "In our example, TensorFlow stopped training the model after 84 epochs because the loss metric was no longer decreasing at a substantial rate, and the accuracy was not improving.\n",
    "\n",
    "Let's plot out the loss and accuracy curves over our training iterations. Again, we'll add and run the following code to the notebook:"
   ]
  },
  {
   "cell_type": "code",
   "execution_count": 18,
   "id": "add96d41",
   "metadata": {},
   "outputs": [
    {
     "data": {
      "text/plain": [
       "<AxesSubplot:>"
      ]
     },
     "execution_count": 18,
     "metadata": {},
     "output_type": "execute_result"
    },
    {
     "data": {
      "image/png": "[encoded data removed]",
      "text/plain": [
       "<Figure size 432x288 with 1 Axes>"
      ]
     },
     "metadata": {
      "needs_background": "light"
     },
     "output_type": "display_data"
    }
   ],
   "source": [
    "# Create a DataFrame containing training history\n",
    "history_df = pd.DataFrame(model_moon.history, index=range(1,len(model_moon.history[\"loss\"])+1))\n",
    "\n",
    "# Plot the loss\n",
    "history_df.plot(y=\"loss\")"
   ]
  },
  {
   "cell_type": "code",
   "execution_count": 19,
   "id": "842969bb",
   "metadata": {},
   "outputs": [
    {
     "data": {
      "text/plain": [
       "<AxesSubplot:>"
      ]
     },
     "execution_count": 19,
     "metadata": {},
     "output_type": "execute_result"
    },
    {
     "data": {
      "image/png": "[encoded data removed]",
      "text/plain": [
       "<Figure size 432x288 with 1 Axes>"
      ]
     },
     "metadata": {
      "needs_background": "light"
     },
     "output_type": "display_data"
    }
   ],
   "source": [
    "# Plot the accuracy\n",
    "history_df.plot(y=\"accuracy\")"
   ]
  },
  {
   "cell_type": "markdown",
   "id": "9606fcbe",
   "metadata": {},
   "source": [
    "Earlier in the module, we learned that adding neurons to a neural network can help to generate a well-performing model faster than using a single-neuron, single-layer neural network. In fact, there are multiple advantages to adding neurons to our hidden layer in a neural network. Some of the advantages follow:\n",
    "\n",
    "There is a distributed effort to find optimal weights—faster.\n",
    "\n",
    "Each neuron can focus on different features to identify nonlinear effects—smarter.\n",
    "\n",
    "It is less likely to fixate on complex variables—more robust.\n",
    "\n",
    "So, if adding more neurons to our neural network model increases the performance, why wouldn't we always use the maximum number of neurons? There are two main reasons to limit the number of neurons in a neural network model: overfitting and computation resources. Similar to other machine learning algorithms, neural networks are susceptible to overfitting where the model fits the training data too well. As a result of overfitting, the neural network will not generalize well and won't be able to classify new data correctly. Additionally, a neural network model with a large number of neurons requires equally large training dataset—training a large neural network requires more data, more epochs, and more time. Therefore, it is important that a neural network model has an appropriate number of neurons to match the size of the data, the complexity of the problem, and the amount of input neurons:\n",
    "\n",
    "A good rule of thumb for a basic neural network is to have two to three times the amount of neurons in the hidden layer as the number of inputs.\n",
    "\n",
    "Since our blob and moon-shaped dummy datasets are created using two variables, our neural network model uses two input values.\n",
    "\n",
    "Applying the neuron rule of thumb, we should use a neural network model with six neurons in the hidden layer to properly model our linear and nonlinear datasets. Thankfully, designing a neural network with more layers is the exact same workflow as before, except we tweak a few parameters.\n",
    "\n",
    "Since we want to change the structure of our neural network model, we must first create a new Sequential model by adding the following code to our notebook and running it:"
   ]
  },
  {
   "cell_type": "code",
   "execution_count": 20,
   "id": "2bd343bc",
   "metadata": {},
   "outputs": [],
   "source": [
    "# Generate our new Sequential model\n",
    "new_model = tf.keras.models.Sequential()"
   ]
  },
  {
   "cell_type": "markdown",
   "id": "c3e807bc",
   "metadata": {},
   "source": [
    "Using our new Sequential model, we'll add our input, hidden, and output layers using the Dense class. However, this time we'll create a hidden layer with six neurons instead of one by changing the units parameter while keeping all other parameters the same. To our notebooks, we'll add and run the following code:"
   ]
  },
  {
   "cell_type": "code",
   "execution_count": 21,
   "id": "991bd257",
   "metadata": {},
   "outputs": [],
   "source": [
    "# Add the input and hidden layer\n",
    "number_inputs = 2\n",
    "number_hidden_nodes = 6\n",
    "\n",
    "new_model.add(tf.keras.layers.Dense(units=number_hidden_nodes, activation=\"relu\", input_dim=number_inputs))\n",
    "\n",
    "# Add the output layer that uses a probability activation function\n",
    "new_model.add(tf.keras.layers.Dense(units=1, activation=\"sigmoid\"))"
   ]
  },
  {
   "cell_type": "markdown",
   "id": "7fe765c7",
   "metadata": {},
   "source": [
    "Now that our new Sequential model is defined, we need to compile and train the model using our nonlinear moon-shaped dummy data. For us to make direct comparisons with our single-neuron model, we'll use the same training parameters, including loss metric, optimizer function, and number of epochs."
   ]
  },
  {
   "cell_type": "code",
   "execution_count": 24,
   "id": "960ad05c",
   "metadata": {},
   "outputs": [
    {
     "name": "stdout",
     "output_type": "stream",
     "text": [
      "Epoch 1/100\n",
      "24/24 [==============================] - 0s 1ms/step - loss: 0.2037 - accuracy: 0.9040\n",
      "Epoch 2/100\n",
      "24/24 [==============================] - 0s 1ms/step - loss: 0.2035 - accuracy: 0.9040\n",
      "Epoch 3/100\n",
      "24/24 [==============================] - 0s 1ms/step - loss: 0.2035 - accuracy: 0.9053\n",
      "Epoch 4/100\n",
      "24/24 [==============================] - 0s 1ms/step - loss: 0.2036 - accuracy: 0.9040\n",
      "Epoch 5/100\n",
      "24/24 [==============================] - 0s 963us/step - loss: 0.2038 - accuracy: 0.9027\n",
      "Epoch 6/100\n",
      "24/24 [==============================] - 0s 1ms/step - loss: 0.2036 - accuracy: 0.9027\n",
      "Epoch 7/100\n",
      "24/24 [==============================] - 0s 992us/step - loss: 0.2036 - accuracy: 0.9027\n",
      "Epoch 8/100\n",
      "24/24 [==============================] - 0s 961us/step - loss: 0.2035 - accuracy: 0.9040\n",
      "Epoch 9/100\n",
      "24/24 [==============================] - 0s 986us/step - loss: 0.2037 - accuracy: 0.9040\n",
      "Epoch 10/100\n",
      "24/24 [==============================] - 0s 975us/step - loss: 0.2036 - accuracy: 0.9040\n",
      "Epoch 11/100\n",
      "24/24 [==============================] - 0s 933us/step - loss: 0.2034 - accuracy: 0.9040\n",
      "Epoch 12/100\n",
      "24/24 [==============================] - 0s 985us/step - loss: 0.2036 - accuracy: 0.9027\n",
      "Epoch 13/100\n",
      "24/24 [==============================] - 0s 953us/step - loss: 0.2035 - accuracy: 0.9027\n",
      "Epoch 14/100\n",
      "24/24 [==============================] - 0s 985us/step - loss: 0.2035 - accuracy: 0.9027\n",
      "Epoch 15/100\n",
      "24/24 [==============================] - 0s 989us/step - loss: 0.2035 - accuracy: 0.9027\n",
      "Epoch 16/100\n",
      "24/24 [==============================] - 0s 1ms/step - loss: 0.2039 - accuracy: 0.9027\n",
      "Epoch 17/100\n",
      "24/24 [==============================] - 0s 930us/step - loss: 0.2036 - accuracy: 0.9027\n",
      "Epoch 18/100\n",
      "24/24 [==============================] - 0s 1ms/step - loss: 0.2036 - accuracy: 0.9027\n",
      "Epoch 19/100\n",
      "24/24 [==============================] - 0s 926us/step - loss: 0.2037 - accuracy: 0.9027\n",
      "Epoch 20/100\n",
      "24/24 [==============================] - 0s 1ms/step - loss: 0.2036 - accuracy: 0.9027\n",
      "Epoch 21/100\n",
      "24/24 [==============================] - 0s 938us/step - loss: 0.2034 - accuracy: 0.9027\n",
      "Epoch 22/100\n",
      "24/24 [==============================] - 0s 914us/step - loss: 0.2035 - accuracy: 0.9040\n",
      "Epoch 23/100\n",
      "24/24 [==============================] - 0s 955us/step - loss: 0.2036 - accuracy: 0.9040\n",
      "Epoch 24/100\n",
      "24/24 [==============================] - 0s 915us/step - loss: 0.2035 - accuracy: 0.9027\n",
      "Epoch 25/100\n",
      "24/24 [==============================] - 0s 959us/step - loss: 0.2034 - accuracy: 0.9040\n",
      "Epoch 26/100\n",
      "24/24 [==============================] - 0s 1ms/step - loss: 0.2035 - accuracy: 0.9027\n",
      "Epoch 27/100\n",
      "24/24 [==============================] - 0s 970us/step - loss: 0.2034 - accuracy: 0.9027\n",
      "Epoch 28/100\n",
      "24/24 [==============================] - 0s 996us/step - loss: 0.2034 - accuracy: 0.9027\n",
      "Epoch 29/100\n",
      "24/24 [==============================] - 0s 964us/step - loss: 0.2035 - accuracy: 0.9040\n",
      "Epoch 30/100\n",
      "24/24 [==============================] - 0s 974us/step - loss: 0.2035 - accuracy: 0.9040\n",
      "Epoch 31/100\n",
      "24/24 [==============================] - 0s 983us/step - loss: 0.2038 - accuracy: 0.9027\n",
      "Epoch 32/100\n",
      "24/24 [==============================] - 0s 1ms/step - loss: 0.2039 - accuracy: 0.9027\n",
      "Epoch 33/100\n",
      "24/24 [==============================] - 0s 975us/step - loss: 0.2035 - accuracy: 0.9027\n",
      "Epoch 34/100\n",
      "24/24 [==============================] - 0s 914us/step - loss: 0.2034 - accuracy: 0.9027\n",
      "Epoch 35/100\n",
      "24/24 [==============================] - 0s 933us/step - loss: 0.2034 - accuracy: 0.9027\n",
      "Epoch 36/100\n",
      "24/24 [==============================] - 0s 1ms/step - loss: 0.2034 - accuracy: 0.9027\n",
      "Epoch 37/100\n",
      "24/24 [==============================] - 0s 1ms/step - loss: 0.2035 - accuracy: 0.9027\n",
      "Epoch 38/100\n",
      "24/24 [==============================] - 0s 963us/step - loss: 0.2037 - accuracy: 0.9040\n",
      "Epoch 39/100\n",
      "24/24 [==============================] - 0s 931us/step - loss: 0.2034 - accuracy: 0.9027\n",
      "Epoch 40/100\n",
      "24/24 [==============================] - 0s 1ms/step - loss: 0.2036 - accuracy: 0.9027\n",
      "Epoch 41/100\n",
      "24/24 [==============================] - 0s 920us/step - loss: 0.2033 - accuracy: 0.9027\n",
      "Epoch 42/100\n",
      "24/24 [==============================] - 0s 981us/step - loss: 0.2034 - accuracy: 0.9027\n",
      "Epoch 43/100\n",
      "24/24 [==============================] - 0s 971us/step - loss: 0.2033 - accuracy: 0.9040\n",
      "Epoch 44/100\n",
      "24/24 [==============================] - 0s 972us/step - loss: 0.2035 - accuracy: 0.9027\n",
      "Epoch 45/100\n",
      "24/24 [==============================] - 0s 948us/step - loss: 0.2034 - accuracy: 0.9027\n",
      "Epoch 46/100\n",
      "24/24 [==============================] - 0s 984us/step - loss: 0.2035 - accuracy: 0.9027\n",
      "Epoch 47/100\n",
      "24/24 [==============================] - 0s 908us/step - loss: 0.2033 - accuracy: 0.9027\n",
      "Epoch 48/100\n",
      "24/24 [==============================] - 0s 1ms/step - loss: 0.2033 - accuracy: 0.9027\n",
      "Epoch 49/100\n",
      "24/24 [==============================] - 0s 956us/step - loss: 0.2034 - accuracy: 0.9027\n",
      "Epoch 50/100\n",
      "24/24 [==============================] - 0s 958us/step - loss: 0.2037 - accuracy: 0.9040\n",
      "Epoch 51/100\n",
      "24/24 [==============================] - 0s 968us/step - loss: 0.2034 - accuracy: 0.9027\n",
      "Epoch 52/100\n",
      "24/24 [==============================] - 0s 1000us/step - loss: 0.2037 - accuracy: 0.9040\n",
      "Epoch 53/100\n",
      "24/24 [==============================] - 0s 956us/step - loss: 0.2033 - accuracy: 0.9040\n",
      "Epoch 54/100\n",
      "24/24 [==============================] - 0s 1000us/step - loss: 0.2035 - accuracy: 0.9027\n",
      "Epoch 55/100\n",
      "24/24 [==============================] - 0s 959us/step - loss: 0.2037 - accuracy: 0.9027\n",
      "Epoch 56/100\n",
      "24/24 [==============================] - 0s 1ms/step - loss: 0.2035 - accuracy: 0.9027\n",
      "Epoch 57/100\n",
      "24/24 [==============================] - 0s 935us/step - loss: 0.2033 - accuracy: 0.9027\n",
      "Epoch 58/100\n",
      "24/24 [==============================] - 0s 1ms/step - loss: 0.2034 - accuracy: 0.9027\n",
      "Epoch 59/100\n",
      "24/24 [==============================] - 0s 914us/step - loss: 0.2037 - accuracy: 0.9027\n",
      "Epoch 60/100\n",
      "24/24 [==============================] - 0s 958us/step - loss: 0.2032 - accuracy: 0.9040\n",
      "Epoch 61/100\n",
      "24/24 [==============================] - 0s 951us/step - loss: 0.2035 - accuracy: 0.9027\n",
      "Epoch 62/100\n",
      "24/24 [==============================] - 0s 954us/step - loss: 0.2033 - accuracy: 0.9027\n",
      "Epoch 63/100\n",
      "24/24 [==============================] - 0s 918us/step - loss: 0.2033 - accuracy: 0.9027\n",
      "Epoch 64/100\n",
      "24/24 [==============================] - 0s 918us/step - loss: 0.2034 - accuracy: 0.9040\n",
      "Epoch 65/100\n",
      "24/24 [==============================] - 0s 919us/step - loss: 0.2032 - accuracy: 0.9027\n",
      "Epoch 66/100\n",
      "24/24 [==============================] - 0s 927us/step - loss: 0.2034 - accuracy: 0.9027\n",
      "Epoch 67/100\n",
      "24/24 [==============================] - 0s 894us/step - loss: 0.2033 - accuracy: 0.9027\n",
      "Epoch 68/100\n",
      "24/24 [==============================] - 0s 918us/step - loss: 0.2034 - accuracy: 0.9027\n",
      "Epoch 69/100\n",
      "24/24 [==============================] - 0s 944us/step - loss: 0.2036 - accuracy: 0.9027\n",
      "Epoch 70/100\n",
      "24/24 [==============================] - 0s 929us/step - loss: 0.2034 - accuracy: 0.9027\n",
      "Epoch 71/100\n",
      "24/24 [==============================] - 0s 917us/step - loss: 0.2033 - accuracy: 0.9027\n",
      "Epoch 72/100\n",
      "24/24 [==============================] - 0s 955us/step - loss: 0.2034 - accuracy: 0.9027\n",
      "Epoch 73/100\n",
      "24/24 [==============================] - 0s 929us/step - loss: 0.2034 - accuracy: 0.9027\n",
      "Epoch 74/100\n",
      "24/24 [==============================] - 0s 970us/step - loss: 0.2033 - accuracy: 0.9027\n",
      "Epoch 75/100\n",
      "24/24 [==============================] - 0s 950us/step - loss: 0.2033 - accuracy: 0.9027\n",
      "Epoch 76/100\n",
      "24/24 [==============================] - 0s 963us/step - loss: 0.2033 - accuracy: 0.9040\n",
      "Epoch 77/100\n",
      "24/24 [==============================] - 0s 922us/step - loss: 0.2033 - accuracy: 0.9027\n",
      "Epoch 78/100\n",
      "24/24 [==============================] - 0s 913us/step - loss: 0.2035 - accuracy: 0.9040\n",
      "Epoch 79/100\n",
      "24/24 [==============================] - 0s 951us/step - loss: 0.2034 - accuracy: 0.9027\n",
      "Epoch 80/100\n",
      "24/24 [==============================] - 0s 961us/step - loss: 0.2032 - accuracy: 0.9027\n",
      "Epoch 81/100\n"
     ]
    },
    {
     "name": "stdout",
     "output_type": "stream",
     "text": [
      "24/24 [==============================] - 0s 953us/step - loss: 0.2033 - accuracy: 0.9027\n",
      "Epoch 82/100\n",
      "24/24 [==============================] - 0s 943us/step - loss: 0.2033 - accuracy: 0.9040\n",
      "Epoch 83/100\n",
      "24/24 [==============================] - 0s 940us/step - loss: 0.2032 - accuracy: 0.9027\n",
      "Epoch 84/100\n",
      "24/24 [==============================] - 0s 924us/step - loss: 0.2036 - accuracy: 0.9040\n",
      "Epoch 85/100\n",
      "24/24 [==============================] - 0s 949us/step - loss: 0.2031 - accuracy: 0.9027\n",
      "Epoch 86/100\n",
      "24/24 [==============================] - 0s 895us/step - loss: 0.2032 - accuracy: 0.9027\n",
      "Epoch 87/100\n",
      "24/24 [==============================] - 0s 933us/step - loss: 0.2035 - accuracy: 0.9040\n",
      "Epoch 88/100\n",
      "24/24 [==============================] - 0s 923us/step - loss: 0.2033 - accuracy: 0.9027\n",
      "Epoch 89/100\n",
      "24/24 [==============================] - 0s 925us/step - loss: 0.2031 - accuracy: 0.9027\n",
      "Epoch 90/100\n",
      "24/24 [==============================] - 0s 906us/step - loss: 0.2032 - accuracy: 0.9040\n",
      "Epoch 91/100\n",
      "24/24 [==============================] - 0s 971us/step - loss: 0.2033 - accuracy: 0.9027\n",
      "Epoch 92/100\n",
      "24/24 [==============================] - 0s 911us/step - loss: 0.2034 - accuracy: 0.9027\n",
      "Epoch 93/100\n",
      "24/24 [==============================] - 0s 915us/step - loss: 0.2032 - accuracy: 0.9040\n",
      "Epoch 94/100\n",
      "24/24 [==============================] - 0s 961us/step - loss: 0.2033 - accuracy: 0.9040\n",
      "Epoch 95/100\n",
      "24/24 [==============================] - 0s 929us/step - loss: 0.2033 - accuracy: 0.9040\n",
      "Epoch 96/100\n",
      "24/24 [==============================] - 0s 941us/step - loss: 0.2031 - accuracy: 0.9027\n",
      "Epoch 97/100\n",
      "24/24 [==============================] - 0s 911us/step - loss: 0.2033 - accuracy: 0.9027\n",
      "Epoch 98/100\n",
      "24/24 [==============================] - 0s 924us/step - loss: 0.2034 - accuracy: 0.9027\n",
      "Epoch 99/100\n",
      "24/24 [==============================] - 0s 927us/step - loss: 0.2034 - accuracy: 0.9027\n",
      "Epoch 100/100\n",
      "24/24 [==============================] - 0s 964us/step - loss: 0.2032 - accuracy: 0.9027\n"
     ]
    }
   ],
   "source": [
    "# Compile the Sequential model together and customize metrics\n",
    "new_model.compile(loss=\"binary_crossentropy\", optimizer=\"adam\", metrics=[\"accuracy\"])\n",
    "\n",
    "# Fit the model to the training data\n",
    "new_fit_model = new_model.fit(X_moon_train_scaled, y_moon_train, epochs=100, shuffle=True)"
   ]
  },
  {
   "cell_type": "markdown",
   "id": "676c0c91",
   "metadata": {},
   "source": [
    "Looking at the training metrics of our new model, as we increase the number of neurons within the hidden layer, the classification accuracy improves. You may have noticed that adding multiple neurons to our neural network did not yield a perfect classification model. As input data becomes more complex, neural networks will require more and more optimization tweaks to achieve their desired accuracy."
   ]
  },
  {
   "cell_type": "markdown",
   "id": "d7417551",
   "metadata": {},
   "source": [
    "As with all machine learning algorithms, neural networks are not perfect and will often underperform using a basic implementation. When a neural network model does not meet performance expectations, it is usually due to one of two causes: inadequate or inappropriate model design for a given dataset, or insufficient or ineffective training data. Although collecting more training/test data is almost always beneficial, it may be impossible due to budget or logistical limitations. Therefore, the most straightforward means of improving neural network performance is tweaking the model design and parameters.\n",
    "\n",
    "When it comes to tweaking a neural network model, a little can go a long way. If we tweak too many design aspects and parameters at once, we can cause a model to become less effective without a means of understanding why. To avoid trapping ourselves in endless optimization iterations, we can use characteristics of our input data to determine what parameters should be changed.\n",
    "\n",
    "There are a few means of optimizing a neural network:\n",
    "\n",
    "Check out your input dataset.\n",
    "\n",
    "Add more neurons to a hidden layer.\n",
    "\n",
    "Add additional hidden layers.\n",
    "\n",
    "Use a different activation function for the hidden layers.\n",
    "\n",
    "Add additional epochs to the training regimen.\n",
    "\n",
    "#### Check your input dataset\n",
    "\n",
    "Before you start down the endless journey of model optimization, it is always a good idea to check the input data and ensure that there are no variables or set of outliers that are causing the model to be confused. Although neural networks are tolerant of noisy characteristics in a dataset, neural networks can learn bad habits (like the brain does). Even if we standardize and scale our numerical variables, too many outliers in a single variable can lead to performance issues.\n",
    "\n",
    "\n",
    "#### Add more neurons and hidden layers\n",
    "\n",
    "Instead of adding more neurons, we could change the structure of the model by adding additional hidden layers, which allows neurons to train on activated input values, instead of looking at new training data. Therefore, a neural network with multiple layers can identify nonlinear characteristics of the input data without requiring more input data.\n",
    "\n",
    "(NOTE: This concept of a multiple-layered neural network is known as a deep learning neural network)\n",
    "\n",
    "#### Use a different activation function\n",
    "\n",
    "Another strategy to increase performance of a neural network is to change the activation function used across hidden layers. Depending on the shape and dimensionality of the input data, one activation function may focus on specific characteristics of the input values, while another activation function may focus on others.\n",
    "\n",
    "It is important to use an activation function that matches the complexity of the input data. If we wanted to rank the four most-used activation functions by data complexity and ideal use case, the order would be as follows:\n",
    "\n",
    "The sigmoid function values are normalized to a probability between 0 and 1, which is ideal for binary classification.\n",
    "\n",
    "The tanh function can be used for classification or regression, and it expands the range between -1 and 1.\n",
    "\n",
    "The ReLU function is ideal for looking at positive nonlinear input data for classification or regression.\n",
    "\n",
    "The Leaky ReLU function is a good alternative for nonlinear input data with many negative inputs.\n",
    "\n",
    "(\n",
    "NOTE: By default, the Keras Dense layer will implement the linear activation function, which means that the net sum value is not transformed. In other words: alpha(x) = x\n",
    "The linear activation function limits the neural network model to only perform a linear regression. Therefore, the linear activation function is only appropriate for an output layer.\n",
    ")\n",
    "\n",
    "To experiment and optimize using an activation function, try selecting from activation functions that are slightly more complex than your current activation function. For example, if you were trying to build a regression neural network model using a wide input dataset, you might start with a tanh activation function. To optimize the regression model, try training with the ReLU activation function, or even the Leaky ReLU activation function. In most cases, it is better to try optimizing using a higher complexity activation function rather than a lower complexity activation function. Using a higher complexity activation function will assess the input data differently without any risk of censoring or ignoring lower complexity features.\n",
    "\n",
    "#### Add additional ephcs to the training regimen\n",
    "\n",
    "If your model still requires optimizations and tweaking to meet desired performance, you can increase the number of epochs, or training iterations. As the number of epochs increases, so does the amount of information provided to each neuron. By providing each neuron more information from the input data, the neurons are more likely to apply more effective weight coefficients. Adding more epochs to the training parameters is not a perfect solution—if the model produces weight coefficients that are too effective, there is an increased risk of model overfitting. Therefore, models should be tested and evaluated each time the number of epochs are increased to reduce the risk of overfitting.\n",
    "\n",
    "As with all machine learning models, creating an ideal classification or regression model is part mathematics and part art. As we design more and more models, optimizing and fine-tuning becomes less trial and error and more pattern recognition."
   ]
  },
  {
   "cell_type": "code",
   "execution_count": null,
   "id": "16d08a0c",
   "metadata": {},
   "outputs": [],
   "source": []
  },
  {
   "cell_type": "code",
   "execution_count": null,
   "id": "a9f2823d",
   "metadata": {},
   "outputs": [],
   "source": []
  }
 ],
 "metadata": {
  "kernelspec": {
   "display_name": "mlenv",
   "language": "python",
   "name": "mlenv"
  },
  "language_info": {
   "codemirror_mode": {
    "name": "ipython",
    "version": 3
   },
   "file_extension": ".py",
   "mimetype": "text/x-python",
   "name": "python",
   "nbconvert_exporter": "python",
   "pygments_lexer": "ipython3",
   "version": "3.7.13"
  }
 },
 "nbformat": 4,
 "nbformat_minor": 5
}
